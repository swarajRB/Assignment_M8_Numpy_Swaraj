{
 "cells": [
  {
   "cell_type": "markdown",
   "metadata": {},
   "source": [
    "## Q.1 Create a 3x3 NumPy array with random integers between 1 and 100. Then, interchange its rows and columns.\n"
   ]
  },
  {
   "cell_type": "code",
   "execution_count": 1,
   "metadata": {},
   "outputs": [
    {
     "name": "stdout",
     "output_type": "stream",
     "text": [
      "The 3x3 array is:\n",
      " [[71 61 76]\n",
      " [60  5 70]\n",
      " [97 83 26]]\n",
      "The Transposed array is :\n",
      " [[71 60 97]\n",
      " [61  5 83]\n",
      " [76 70 26]]\n"
     ]
    }
   ],
   "source": [
    "# Ans\n",
    "\n",
    "import numpy as np\n",
    "# creating the array with random integers between 1 to 100\n",
    "arr1 = np.random.randint(1 , 100 , (3,3)) \n",
    "print(\"The 3x3 array is:\\n\",arr1) # printing the array\n",
    "\n",
    "# Interchanging the its rows and columns (Transposd array)\n",
    "arr2 = arr1.T\n",
    "print(\"The Transposed array is :\\n\", arr2)\n"
   ]
  },
  {
   "cell_type": "markdown",
   "metadata": {},
   "source": [
    "## Q.2 Generate a 1D NumPy array with 10 elements. Reshape it into a 2x5 array, then into a 5x2 array.\n"
   ]
  },
  {
   "cell_type": "code",
   "execution_count": 2,
   "metadata": {},
   "outputs": [
    {
     "name": "stdout",
     "output_type": "stream",
     "text": [
      "The 1D numpy array with 10 elements: \n",
      " [ 1  2  3  4  5  6  7  8  9 10]\n",
      "\n",
      "The reshaped 2x5 array is \n",
      " [[ 1  2  3  4  5]\n",
      " [ 6  7  8  9 10]]\n",
      "\n",
      "The again reshaped 5x2 array is: \n",
      " [[ 1  2]\n",
      " [ 3  4]\n",
      " [ 5  6]\n",
      " [ 7  8]\n",
      " [ 9 10]]\n"
     ]
    }
   ],
   "source": [
    "# Ans:\n",
    "import numpy as np\n",
    "\n",
    "# generating a 1D numpy array with 10 element\n",
    "arr1 = np.arange(1,11)\n",
    "\n",
    "print(\"The 1D numpy array with 10 elements: \\n\",arr1) \n",
    "\n",
    "# reshaping the array into a 2x5 array\n",
    "arr_2x5 = arr1.reshape(2,5)\n",
    "print(\"\\nThe reshaped 2x5 array is \\n\",arr_2x5)\n",
    "\n",
    "# reshaping the array into 5x2 array\n",
    "arr_5x2 = arr1.reshape(5,2)\n",
    "print(\"\\nThe again reshaped 5x2 array is: \\n\",arr_5x2)\n"
   ]
  },
  {
   "cell_type": "markdown",
   "metadata": {},
   "source": [
    "## Q. 3 Create a 4x4 NumPy array with random float values. Add a border of zeros around it, resulting in a 6x6 array.\n"
   ]
  },
  {
   "cell_type": "code",
   "execution_count": 3,
   "metadata": {},
   "outputs": [
    {
     "name": "stdout",
     "output_type": "stream",
     "text": [
      "The 4x4 array with random float values: \n",
      " [[0.07817275 0.70182495 0.82492098 0.45385577]\n",
      " [0.04718074 0.15439015 0.06048278 0.30428578]\n",
      " [0.51751251 0.10985265 0.52009009 0.28540814]\n",
      " [0.60643223 0.50022577 0.97672537 0.26899232]]\n",
      "\n",
      "The 6x6 array with 0s as borderd is:\n",
      " [[0.         0.         0.         0.         0.         0.        ]\n",
      " [0.         0.07817275 0.70182495 0.82492098 0.45385577 0.        ]\n",
      " [0.         0.04718074 0.15439015 0.06048278 0.30428578 0.        ]\n",
      " [0.         0.51751251 0.10985265 0.52009009 0.28540814 0.        ]\n",
      " [0.         0.60643223 0.50022577 0.97672537 0.26899232 0.        ]\n",
      " [0.         0.         0.         0.         0.         0.        ]]\n"
     ]
    }
   ],
   "source": [
    "# Ans :\n",
    "\n",
    "import numpy as np\n",
    "# Creating  a 4x4 array with random float values\n",
    "arr = np.random.rand(4,4)\n",
    "print(\"The 4x4 array with random float values: \\n\", arr)\n",
    "\n",
    "# adding a border of 0s around it and making a 6x6 array\n",
    "arr_6x6 = np.pad(arr, pad_width=1, mode='constant', constant_values=0)\n",
    "print(\"\\nThe 6x6 array with 0s as borderd is:\\n\", arr_6x6)\n"
   ]
  },
  {
   "cell_type": "markdown",
   "metadata": {},
   "source": [
    "##  Q.4 Using NumPy, create an array of integers from 10 to 60 with a step of 5.\n"
   ]
  },
  {
   "cell_type": "code",
   "execution_count": 4,
   "metadata": {},
   "outputs": [
    {
     "name": "stdout",
     "output_type": "stream",
     "text": [
      "Array of integers with skip value of 5 , from 10 to 60 : [10 15 20 25 30 35 40 45 50 55 60]\n"
     ]
    }
   ],
   "source": [
    "# Ans : \n",
    "import numpy as np\n",
    "# creating an array of integers from 10 to 60 with askip value of 5\n",
    "array = np.arange(10 , 61 , 5)\n",
    "\n",
    "# printing the array \n",
    "print(\"Array of integers with skip value of 5 , from 10 to 60 :\",array)"
   ]
  },
  {
   "cell_type": "markdown",
   "metadata": {},
   "source": [
    "## Q.5 Create a NumPy array of strings ['python', 'numpy', 'pandas']. Apply different case transformations(uppercase, lowercase, title case, etc.) to each element."
   ]
  },
  {
   "cell_type": "code",
   "execution_count": 5,
   "metadata": {},
   "outputs": [
    {
     "name": "stdout",
     "output_type": "stream",
     "text": [
      "The original array is : ['python' 'numpy' 'pandas']\n",
      "\n",
      "The upper case array is: ['PYTHON' 'NUMPY' 'PANDAS']\n",
      "\n",
      "The lower case array is: ['python' 'numpy' 'pandas']\n",
      "\n",
      "The array of title case: ['Python' 'Numpy' 'Pandas']\n"
     ]
    }
   ],
   "source": [
    "# Ans :\n",
    "import numpy as np\n",
    "\n",
    "# making a list of given strings\n",
    "str = [\"python\", \"numpy\",\"pandas\"] \n",
    "\n",
    "# converting the list into array\n",
    "str_arr = np.array(str)\n",
    "\n",
    "# printing the array of strings\n",
    "print(\"The original array is :\", str_arr)\n",
    "\n",
    "# transform to upper case\n",
    "arr_upr = np.char.upper(str_arr)\n",
    "print(\"\\nThe upper case array is:\",arr_upr)\n",
    "\n",
    "# transforming to lower case\n",
    "arr_low = np.char.lower(str)\n",
    "print(\"\\nThe lower case array is:\", arr_low)\n",
    "\n",
    "# transforming to title case \n",
    "arr_title = np.char.title(str_arr)\n",
    "print(\"\\nThe array of title case:\",arr_title)"
   ]
  },
  {
   "cell_type": "markdown",
   "metadata": {},
   "source": [
    "## Q.6 Generate a NumPy array of words. Insert a space between each character of every word in the array.\n"
   ]
  },
  {
   "cell_type": "code",
   "execution_count": 6,
   "metadata": {},
   "outputs": [
    {
     "name": "stdout",
     "output_type": "stream",
     "text": [
      "The original  array is: ['Swaraj' 'Appu' 'Data' 'World']\n",
      "\n",
      "Array with space:\n",
      " ['S w a r a j' 'A p p u' 'D a t a' 'W o r l d']\n"
     ]
    }
   ],
   "source": [
    "# Ans:\n",
    "import numpy as np\n",
    "\n",
    "# creating an array of some words\n",
    "arr_word = np.array([\"Swaraj\",\"Appu\", \"Data\", \"World\"])\n",
    "print(\"The original  array is:\", arr_word)\n",
    "\n",
    "# inserting a space between every character\n",
    "arr_space = np.char.join(\" \",arr_word)\n",
    "print(\"\\nArray with space:\\n\",arr_space)"
   ]
  },
  {
   "cell_type": "markdown",
   "metadata": {},
   "source": [
    "## Q.7 Create two 2D NumPy arrays and perform element-wise addition, subtraction, multiplication, and division.\n"
   ]
  },
  {
   "cell_type": "code",
   "execution_count": 7,
   "metadata": {},
   "outputs": [
    {
     "name": "stdout",
     "output_type": "stream",
     "text": [
      "Array_1 is:\n",
      " [[1 4 7]\n",
      " [1 7 9]]\n",
      "\n",
      "Array_2 is:\n",
      " [[5 7 4]\n",
      " [5 1 8]]\n",
      "\n",
      "===Element wise operation===\n",
      "\n",
      "Addition:\n",
      "  [[ 6 11 11]\n",
      " [ 6  8 17]]\n",
      "\n",
      "Subtraction:\n",
      " [[-4 -3  3]\n",
      " [-4  6  1]]\n",
      "\n",
      "Multiplication:\n",
      " [[ 5 28 28]\n",
      " [ 5  7 72]]\n",
      "\n",
      "Division:\n",
      " [[0.2        0.57142857 1.75      ]\n",
      " [0.2        7.         1.125     ]]\n"
     ]
    }
   ],
   "source": [
    "# Ans :\n",
    "import numpy as np\n",
    "\n",
    "# creating two 3x3 numpy array with random value from 1-10\n",
    "arr1 = np.random.randint(1,10,(2,3))\n",
    "arr2 = np.random.randint(1,10,(2,3))\n",
    "\n",
    "# print the two array\n",
    "print(\"Array_1 is:\\n\",arr1)\n",
    "print(\"\\nArray_2 is:\\n\",arr2)\n",
    "\n",
    "# performing element wise operation \n",
    "print(\"\\n===Element wise operation===\")\n",
    "\n",
    "# Addition \n",
    "add = arr1 + arr2\n",
    "print(\"\\nAddition:\\n \", add)\n",
    "\n",
    "# subtraction \n",
    "sub = arr1 - arr2\n",
    "print(\"\\nSubtraction:\\n\", sub)\n",
    "\n",
    "#multiplication\n",
    "mult = arr1 * arr2\n",
    "print(\"\\nMultiplication:\\n\", mult)\n",
    "\n",
    "# division\n",
    "div = arr1 / arr2\n",
    "print(\"\\nDivision:\\n\",div)"
   ]
  },
  {
   "cell_type": "markdown",
   "metadata": {},
   "source": [
    "## Q.8  Use NumPy to create a 5x5 identity matrix, then extract its diagonal elements.\n"
   ]
  },
  {
   "cell_type": "code",
   "execution_count": 8,
   "metadata": {},
   "outputs": [
    {
     "name": "stdout",
     "output_type": "stream",
     "text": [
      "The 5x5 identity matrix is :\n",
      " [[1. 0. 0. 0. 0.]\n",
      " [0. 1. 0. 0. 0.]\n",
      " [0. 0. 1. 0. 0.]\n",
      " [0. 0. 0. 1. 0.]\n",
      " [0. 0. 0. 0. 1.]]\n",
      "\n",
      "The digonal elements :\n",
      " [1. 1. 1. 1. 1.]\n"
     ]
    }
   ],
   "source": [
    "# Ans :\n",
    "import numpy as np\n",
    "\n",
    "# creating a 5x5 \n",
    "identity_mat = np.identity(5)\n",
    "print(\"The 5x5 identity matrix is :\\n\",identity_mat)\n",
    "\n",
    "# accessing the digonal elements\n",
    "dig_elm = identity_mat.diagonal()\n",
    "print(\"\\nThe digonal elements :\\n\",dig_elm)\n"
   ]
  },
  {
   "cell_type": "markdown",
   "metadata": {},
   "source": [
    "## Q.9 Generate a NumPy array of 100 random integers between 0 and 1000. Find and display all prime numbers in this array."
   ]
  },
  {
   "cell_type": "code",
   "execution_count": 9,
   "metadata": {},
   "outputs": [
    {
     "name": "stdout",
     "output_type": "stream",
     "text": [
      "[np.int32(127), np.int32(449), np.int32(181), np.int32(5), np.int32(761), np.int32(269), np.int32(479), np.int32(467)]\n"
     ]
    }
   ],
   "source": [
    "# Ans :\n",
    "\n",
    "import numpy as np\n",
    "\n",
    "# creating an array of 100 random integers between 0 to 1000\n",
    "array = np.random.randint(0,1001, size=100)\n",
    "array\n",
    "\n",
    "# Funtion to check the number is prime or not\n",
    "def is_prime(n):\n",
    "    if n<= 1:\n",
    "        return False\n",
    "    if n<= 3:\n",
    "        return True\n",
    "    if n % 2 == 0 or n % 3==0:\n",
    "        return False\n",
    "    \n",
    "    i = 5\n",
    "    while i * i<= n:\n",
    "        if n % i == 0 or n % (i + 2) == 0:\n",
    "            return False\n",
    "        i += 6\n",
    "    return True\n",
    "\n",
    "# finding and display all the prime number from the array \n",
    "prime_no = [n for n in array if is_prime(n)]\n",
    "print(prime_no)"
   ]
  },
  {
   "cell_type": "markdown",
   "metadata": {},
   "source": [
    "## Q.10 Create a NumPy array representing daily temperatures for a month. Calculate and display the weekly averages"
   ]
  },
  {
   "cell_type": "code",
   "execution_count": 10,
   "metadata": {},
   "outputs": [
    {
     "name": "stdout",
     "output_type": "stream",
     "text": [
      "Daily temp:\n",
      " [45 34 43 43 42 25 31 34 27 52 33 39 32 52 54 46 41 52 28 44 32 29 25 48\n",
      " 46 29 27 43 36 35]\n",
      "\n",
      "Weekly temp:\n",
      " [[45 34 43 43 42 25]\n",
      " [31 34 27 52 33 39]\n",
      " [32 52 54 46 41 52]\n",
      " [28 44 32 29 25 48]\n",
      " [46 29 27 43 36 35]]\n",
      "\n",
      "Weekly temperature avg :\n",
      "week avg temp 38.666666666666664 `C\n",
      "week avg temp 36.0 `C\n",
      "week avg temp 46.166666666666664 `C\n",
      "week avg temp 34.333333333333336 `C\n",
      "week avg temp 36.0 `C\n"
     ]
    }
   ],
   "source": [
    "# Ans :\n",
    "import numpy as np\n",
    "\n",
    "# generating a numpy aray of daily temprature for a month (temp range - 25 to 50)\n",
    "\n",
    "daily_temp = np.random.randint(25, 55, size = 30)\n",
    "\n",
    "print(\"Daily temp:\\n\", daily_temp)\n",
    "\n",
    "#assuming 5 weeks of days each so reshaping the array\n",
    "weekly_temp = daily_temp.reshape(5,6)\n",
    "print(\"\\nWeekly temp:\\n\", weekly_temp)\n",
    "\n",
    "# calculating the  weekly averages \n",
    "\n",
    "week_temp_avg = np.mean(weekly_temp,axis=1)\n",
    "print(\"\\nWeekly temperature avg :\")\n",
    "# week_temp_avg\n",
    "for i in week_temp_avg:\n",
    "    print(\"week avg temp\",i ,\"`C\")\n",
    "\n"
   ]
  }
 ],
 "metadata": {
  "kernelspec": {
   "display_name": "Python 3",
   "language": "python",
   "name": "python3"
  },
  "language_info": {
   "codemirror_mode": {
    "name": "ipython",
    "version": 3
   },
   "file_extension": ".py",
   "mimetype": "text/x-python",
   "name": "python",
   "nbconvert_exporter": "python",
   "pygments_lexer": "ipython3",
   "version": "3.12.4"
  }
 },
 "nbformat": 4,
 "nbformat_minor": 2
}
