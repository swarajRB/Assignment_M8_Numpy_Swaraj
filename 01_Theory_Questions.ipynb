{
 "cells": [
  {
   "cell_type": "markdown",
   "metadata": {},
   "source": [
    "## Q.1 Explain the purpose and advantages of NumPy in scientific computing and data analysis. How does it enhance Python's capabilities for numerical operations?"
   ]
  },
  {
   "cell_type": "markdown",
   "metadata": {},
   "source": [
    "NumPy is a powerful library in Python designed for efficient numerical operations, particularly in scientific computing and data analysis. Its primary purpose is to provide support for handling large datasets and performing mathematical computations with arrays and matrices, offering functionality that enhances Python's native capabilities.\n",
    "\n",
    "1. **Purpose of NumPy:**\n",
    "\n",
    "* Array Handling: Provides the ndarray, a fast and flexible multi-dimensional array object for storing data.\n",
    "\n",
    "* Mathematical Operations: Supplies a wide array of mathematical functions (e.g., linear algebra, statistical operations, Fourier transforms) that operate on arrays and matrices.\n",
    "\n",
    "* Data Manipulation: Enables easy reshaping, slicing, and broadcasting of arrays, allowing complex manipulations with concise syntax.\n",
    "\n",
    "* Interfacing: Acts as a foundation for other libraries like SciPy and pandas, providing a common data structure for scientific computing.\n",
    "\n",
    "2. **Advantages of NumPy:**\n",
    "* Speed: NumPy arrays are implemented in C, making operations on them significantly faster compared to Python lists, especially for large datasets.\n",
    "\n",
    "*  NumPy arrays require less memory than Python lists by storing data in a compact, contiguous block of memory.\n",
    "\n",
    "* Vectorization: Enables operations to be applied element-wise to entire arrays without the need for explicit loops, improving both readability and performance.\n",
    "\n",
    "* Broad Functionality: Offers a rich ecosystem for numerical computation, including tools for random number generation, matrix operations, and mathematical modeling.\n",
    "\n",
    "* Interoperability: Can easily interface with data from other languages (e.g., C, C++, and Fortran) and supports efficient integration with other Python libraries.\n",
    "\n",
    "\n",
    "\n",
    "\n",
    "**NumPy's capabilities significantly enhance Python's capabilities for numerical operations by:**\n",
    "\n",
    "* Providing efficient data structures for handling large numerical datasets\n",
    "\n",
    "* Offering a comprehensive set of functions for mathematical operations, linear algebra, and other numerical tasks\n",
    "\n",
    "* Integrating seamlessly with other scientific Python libraries\n",
    "\n",
    "* Improving memory efficiency and performance\n",
    "\n",
    "* Supporting a wide range of applications\n",
    "\n",
    "* Benefiting from a large and active community"
   ]
  },
  {
   "cell_type": "markdown",
   "metadata": {},
   "source": [
    "## Q 2. Compare and contrast np.mean() and np.average() functions in NumPy. When would you use one over the other?"
   ]
  },
  {
   "cell_type": "markdown",
   "metadata": {},
   "source": [
    "Both `np.mean()` and `np.average()` are used to calculate the mean (average) of a NumPy array. However, they have subtle differences in their behavior.\n",
    "\n",
    "`np.mean()`\n",
    "\n",
    "* Direct calculation: Calculates the arithmetic mean directly.\n",
    "* Weights not supported: Doesn't allow for weighted averages.\n",
    "\n",
    "`np.average()`\n",
    "* Weighted averages: Can calculate weighted averages by specifying weights.\n",
    "* Returns: Returns the weighted average by default.\n",
    "* Returns mean if no weights: If no weights are provided, it returns the arithmetic mean.\n",
    "\n",
    "When to Use:\n",
    "* Use `np.mean()` when every number in your array is equally important.\n",
    "* Use `np.average()` when some numbers are more important, and you want that reflected in the result (through weights)."
   ]
  },
  {
   "cell_type": "code",
   "execution_count": 1,
   "metadata": {},
   "outputs": [
    {
     "name": "stdout",
     "output_type": "stream",
     "text": [
      "Mean: 2.5\n",
      "avarage: 3.0\n"
     ]
    }
   ],
   "source": [
    "# example\n",
    "import numpy as np\n",
    "\n",
    "data = np.array([1, 2, 3, 4])\n",
    "\n",
    "# Unweighted mean\n",
    "mean = np.mean(data)\n",
    "print(\"Mean:\", mean)  # Output: 2.5\n",
    "\n",
    "data = [1, 2, 3, 4]\n",
    "weights = [1, 2, 3, 4]  # These weights mean '4' is more important\n",
    "avg = np.average(data, weights=weights) \n",
    "print(\"avarage:\",avg)\n"
   ]
  },
  {
   "cell_type": "markdown",
   "metadata": {},
   "source": [
    "## Q 3. Describe the methods for reversing a NumPy array along different axes. Provide examples for 1D and 2D arrays."
   ]
  },
  {
   "cell_type": "markdown",
   "metadata": {},
   "source": [
    "In NumPy, arrays can be reversed along different axes using several methods. Below are common techniques to reverse a NumPy array along different axes:\n",
    "\n",
    "1. Using Slicing : ([::-1])"
   ]
  },
  {
   "cell_type": "code",
   "execution_count": 2,
   "metadata": {},
   "outputs": [
    {
     "name": "stdout",
     "output_type": "stream",
     "text": [
      "[5 4 3 2 1]\n",
      "================\n",
      "[[7 8 9]\n",
      " [4 5 6]\n",
      " [1 2 3]]\n",
      "================\n",
      "[[3 2 1]\n",
      " [6 5 4]\n",
      " [9 8 7]]\n"
     ]
    }
   ],
   "source": [
    "# 1D Array : In a 1D array, you can reverse the entire array using slicing.\n",
    "\n",
    "import numpy as np\n",
    "arr = np.array([1, 2, 3, 4, 5])\n",
    "rev_arr = arr[::-1]\n",
    "print(rev_arr)  # Output: [5 4 3 2 1]\n",
    "\n",
    "print(\"================\")\n",
    "\n",
    "# 2D Array : For a 2D array, you can reverse it along a specific axis (rows or columns) by slicing the appropriate axis.\n",
    "\n",
    "# Reverse rows (axis 0): \n",
    "\n",
    "arr_2d = np.array([[1, 2, 3], [4, 5, 6], [7, 8, 9]])\n",
    "reversed_rows = arr_2d[::-1, :]\n",
    "print(reversed_rows)\n",
    "# Output:\n",
    "# [[7 8 9]\n",
    "#  [4 5 6]\n",
    "#  [1 2 3]]\n",
    "\n",
    "print(\"================\")\n",
    "# Reverse columns (axis 1):\n",
    "\n",
    "reversed_columns = arr_2d[:, ::-1]\n",
    "print(reversed_columns)\n",
    "# Output:\n",
    "# [[3 2 1]\n",
    "#  [6 5 4]\n",
    "#  [9 8 7]]\n",
    "\n"
   ]
  },
  {
   "cell_type": "markdown",
   "metadata": {},
   "source": [
    "2. Using `np.flip()`:\n",
    "\n",
    "`np.flip()` reverses an array along a specified axis. It is a more flexible method than slicing, allowing you to specify the axis explicitly."
   ]
  },
  {
   "cell_type": "code",
   "execution_count": 3,
   "metadata": {},
   "outputs": [
    {
     "name": "stdout",
     "output_type": "stream",
     "text": [
      "[5 4 3 2 1]\n",
      "==============\n",
      "[[7 8 9]\n",
      " [4 5 6]\n",
      " [1 2 3]]\n",
      "==============\n",
      "[[3 2 1]\n",
      " [6 5 4]\n",
      " [9 8 7]]\n"
     ]
    }
   ],
   "source": [
    "# 1D Array : By default, np.flip() flips the array along its only axis.\n",
    "\n",
    "flipped_arr_1d = np.flip(arr)\n",
    "print(flipped_arr_1d)  # Output: [5 4 3 2 1]\n",
    "\n",
    "print(\"==============\")\n",
    "\n",
    "# 2D Array : For 2D arrays, you can flip along different axes:\n",
    "\n",
    "# Flip along rows (axis 0): \n",
    "\n",
    "flipped_rows = np.flip(arr_2d, axis=0)\n",
    "print(flipped_rows)\n",
    "# Output:\n",
    "# [[7 8 9]\n",
    "#  [4 5 6]\n",
    "#  [1 2 3]]\n",
    "print(\"==============\")\n",
    "\n",
    "# Flip along columns (axis 1): \n",
    "flipped_columns = np.flip(arr_2d, axis=1)\n",
    "print(flipped_columns)\n",
    "\n",
    "# Output:\n",
    "# [[3 2 1]\n",
    "#  [6 5 4]\n",
    "#  [9 8 7]]\n"
   ]
  },
  {
   "cell_type": "markdown",
   "metadata": {},
   "source": [
    "3. Using `np.fliplr()` and `np.flipud()`\n",
    "\n",
    "These functions are specific to 2D arrays and higher dimensions:\n",
    "\n",
    "* `np.fliplr()`: Flips the array left to right (i.e., along columns).\n",
    "\n",
    "* `np.flipud()`: Flips the array upside down (i.e., along rows).\n"
   ]
  },
  {
   "cell_type": "code",
   "execution_count": 4,
   "metadata": {},
   "outputs": [
    {
     "data": {
      "text/plain": [
       "(array([[3, 2, 1],\n",
       "        [6, 5, 4],\n",
       "        [9, 8, 7]]),\n",
       " array([[7, 8, 9],\n",
       "        [4, 5, 6],\n",
       "        [1, 2, 3]]))"
      ]
     },
     "execution_count": 4,
     "metadata": {},
     "output_type": "execute_result"
    }
   ],
   "source": [
    "flip_lr = np.fliplr(arr_2d)\n",
    "\n",
    "flip_ud = np.flipud(arr_2d)\n",
    "\n",
    "\n",
    "\n",
    "flip_lr , flip_ud\n",
    "\n",
    "\n",
    "# Output: flip_lr\n",
    "# [[3 2 1]\n",
    "#  [6 5 4]\n",
    "#  [9 8 7]]\n",
    "\n",
    "# Output: flip_ud\n",
    "# [[7 8 9]\n",
    "#  [4 5 6]\n",
    "#  [1 2 3]]\n"
   ]
  },
  {
   "cell_type": "markdown",
   "metadata": {},
   "source": [
    "4. Using `np.rot90()`:\n",
    "\n",
    "For 2D arrays, you can use `np.rot90()` to rotate the array in multiples of 90 degrees, which can be considered a form of reversing in certain cases.\n",
    "\n",
    "\n"
   ]
  },
  {
   "cell_type": "code",
   "execution_count": 5,
   "metadata": {},
   "outputs": [
    {
     "data": {
      "text/plain": [
       "array([[3, 6, 9],\n",
       "       [2, 5, 8],\n",
       "       [1, 4, 7]])"
      ]
     },
     "execution_count": 5,
     "metadata": {},
     "output_type": "execute_result"
    }
   ],
   "source": [
    "rotated_90 = np.rot90(arr_2d)\n",
    "rotated_90\n",
    "# Output:\n",
    "# [[3 6 9]\n",
    "#  [2 5 8]\n",
    "#  [1 4 7]]\n"
   ]
  },
  {
   "cell_type": "markdown",
   "metadata": {},
   "source": [
    "## Q. 4 How can you determine the data type of elements in a NumPy array? Discuss the importance of data types in memory management and performance."
   ]
  },
  {
   "cell_type": "markdown",
   "metadata": {},
   "source": [
    "To determine the data type of elements in a NumPy array, you can use the `dtype` attribute. \n",
    "This attribute returns a NumPy data type object that describes the type of elements stored in the array."
   ]
  },
  {
   "cell_type": "code",
   "execution_count": 6,
   "metadata": {},
   "outputs": [
    {
     "name": "stdout",
     "output_type": "stream",
     "text": [
      "int64\n",
      "<class 'numpy.int64'>\n"
     ]
    }
   ],
   "source": [
    "# Example \n",
    "\n",
    "import numpy as np\n",
    "\n",
    "# Creating a NumPy array\n",
    "arr = np.array([1, 2, 3, 4])\n",
    "\n",
    "# Determining the data type\n",
    "print(arr.dtype)  # output: int64 (for example)\n",
    "\n",
    "\n",
    "# You can also check the data type of a specific element in the array using the type() function:\n",
    "print(type(arr[0]))  # Output: <class 'numpy.int64'>\n",
    "\n"
   ]
  },
  {
   "cell_type": "markdown",
   "metadata": {},
   "source": [
    "Importance of Data Types in Memory Management and Performance \n",
    "\n",
    "1. Memory Management:\n",
    "The data type affects how much memory each element takes:\n",
    "\n",
    "* Smaller types (like int8) use less memory.\n",
    "* Larger types (like int64) use more memory, but they can store bigger numbers.\n",
    "\n",
    "Example:\n",
    "\n",
    "* If you use int32, each number takes 4 bytes.\n",
    "* If you use int64, each number takes 8 bytes.\n",
    "Choosing the right data type helps save memory, especially when working with large arrays.\n",
    "\n",
    "2. Speed and Performance :\n",
    "* Smaller data types (like `float32`) make calculations faster because the computer processes smaller amounts of data.\n",
    "* Larger data types (like `float64`) are slower, but they give you more precision for complex calculations.\n",
    "\n",
    "Example:\n",
    "\n",
    "If your data doesn't need high precision, using float32 instead of float64 can make the code run faster and use less memory.\n",
    "\n",
    "3. Precision and Accuracy:\n",
    "Data types also control how accurate your numbers are:\n",
    "\n",
    "* `float32` is faster but less precise.\n",
    "* `float64` is slower but more precise.\n",
    "\n",
    "If you’re doing simple calculations, `float32` is usually enough. For high-precision tasks, like scientific calculations, `float64` is better.\n",
    "\n",
    "4. Hardware Optimization :\n",
    "\n",
    "Computers can process many numbers at once (in parallel), but this works best with smaller data types like `int8` or `float32`. Choosing the right type can speed up operations by taking advantage of hardware optimizations.\n",
    "\n",
    "\n"
   ]
  },
  {
   "cell_type": "markdown",
   "metadata": {},
   "source": [
    "## Q. 5 Define ndarrays in NumPy and explain their key features. How do they differ from standard Python lists?\n"
   ]
  },
  {
   "cell_type": "markdown",
   "metadata": {},
   "source": [
    "In NumPy, an `ndarray` (n-dimensional array) is a powerful data structure that holds elements of the same type in a grid-like structure.\n",
    "It can represent multi-dimensional arrays (like 1D, 2D, or even higher dimensions)."
   ]
  },
  {
   "cell_type": "code",
   "execution_count": 7,
   "metadata": {},
   "outputs": [
    {
     "data": {
      "text/plain": [
       "(array([1, 2, 3, 4]),\n",
       " array([[1, 2, 3],\n",
       "        [4, 5, 6]]))"
      ]
     },
     "execution_count": 7,
     "metadata": {},
     "output_type": "execute_result"
    }
   ],
   "source": [
    "import numpy as np\n",
    "\n",
    "# 1D ndarray (array)\n",
    "arr_1d = np.array([1, 2, 3, 4])\n",
    "\n",
    "# 2D ndarray (matrix)\n",
    "arr_2d = np.array([[1, 2, 3], [4, 5, 6]])\n",
    "\n",
    "# printing the ndarray\n",
    "arr_1d , arr_2d\n"
   ]
  },
  {
   "cell_type": "markdown",
   "metadata": {},
   "source": [
    "**Key Features of `ndarray` :**\n",
    "\n",
    "1. Homogeneity: All elements within an ndarray must be of the same data type (e.g., int, float, bool). This ensures efficient memory management and optimized operations.\n",
    "\n",
    "2. N-dimensional: ndarray can have multiple dimensions (1D, 2D, 3D, etc.), allowing you to represent complex data structures like matrices, tensors, etc.\n",
    "\n",
    "\n",
    "    * 1D Array (Vector): np.array([1, 2, 3])\n",
    "    * 2D Array (Matrix): np.array([[1, 2], [3, 4]])\n",
    "    * 3D Array (Tensor): np.array([[[1, 2], [3, 4]], [[5, 6], [7, 8]]])\n",
    "\n",
    "3. Fixed Size: Once created, the size of an ndarray cannot be changed (though you can create a new one with a different size).\n",
    "\n",
    "4. Fast Operations: NumPy provides vectorized operations, meaning you can perform element-wise operations on arrays much faster than Python loops.\n",
    "\n",
    "5. Memory Efficient: NumPy arrays use less memory than Python lists because they store elements of the same type in a contiguous block of memory.\n",
    "\n",
    "6. Broadcasting: NumPy allows operations on arrays of different shapes, automatically adjusting the shapes when possible (broadcasting). This is very useful for mathematical operations."
   ]
  },
  {
   "cell_type": "markdown",
   "metadata": {},
   "source": [
    "**Differences from Standard Python Lists:**\n",
    "* Homogeneity: Unlike Python lists, which can contain elements of different data types, ndarrays require all elements to be of the same type.\n",
    "* Performance: NumPy ndarrays are generally much faster than Python lists for numerical operations due to their optimized implementation and vectorized nature.\n",
    "* Fixed Size: Python lists are dynamic and can be resized on the fly, while ndarrays have a fixed size.\n",
    "* Memory Efficiency: ndarrays are typically more memory-efficient than Python lists, especially for large arrays.\n",
    "* Specialized Operations: NumPy provides a rich set of functions and operations specifically designed for working with numerical arrays, which are not available for Python lists."
   ]
  },
  {
   "cell_type": "markdown",
   "metadata": {},
   "source": [
    "## Q. 6 Analyze the performance benefits of NumPy arrays over Python lists for large-scale numerical operations.\n"
   ]
  },
  {
   "cell_type": "markdown",
   "metadata": {},
   "source": [
    "When dealing with large-scale numerical operations, NumPy arrays offer significant performance advantages over standard Python lists. This is primarily due to the following factors:\n",
    "\n",
    "1. Homogeneity and Memory Efficiency:\n",
    "\n",
    "    * Data Type Consistency: NumPy arrays store elements of the same data type, ensuring efficient memory usage and optimized operations.\n",
    "\n",
    "    * Contiguous Memory Allocation: Unlike Python lists, which can store elements of different types and may have gaps in memory, NumPy arrays allocate memory contiguously, allowing for faster access and manipulation.\n",
    "\n",
    "2. Vectorized Operations:\n",
    "\n",
    "    * Element-wise Operations: NumPy operations are typically vectorized, meaning they are performed on entire arrays rather than individual elements. This eliminates the need for explicit loops and significantly improves performance.\n",
    "\n",
    "    * Optimized Code: NumPy leverages highly optimized C code for many of its operations, resulting in substantial speedups compared to Python's interpreted code.\n",
    "\n",
    "3. Broadcasting:\n",
    "\n",
    "    * Automatic Shape Adjustment: NumPy's broadcasting mechanism allows arrays of different shapes to be combined in arithmetic operations, simplifying code and reducing the need for explicit shape manipulation.\n",
    "\n",
    "    * Efficient Calculations: Broadcasting often leads to more efficient calculations by avoiding unnecessary data copying or reshaping.\n",
    "\n",
    "4. Specialized Functions:\n",
    "\n",
    "    * Optimized Algorithms: NumPy provides a rich set of specialized functions for numerical operations, such as linear algebra, Fourier transforms, and random number generation. These functions are often implemented using efficient algorithms, further enhancing performance.\n",
    "\n",
    "5. NumPy's Internal C Implementation:\n",
    "\n",
    "    * Low-Level Optimization: NumPy's core operations are implemented in C, providing direct access to system memory and avoiding the overhead of Python's interpreter.\n",
    "\n",
    "    * Optimized Data Structures: NumPy's internal data structures are designed for efficient numerical computations, minimizing memory access and reducing computational overhead."
   ]
  },
  {
   "cell_type": "markdown",
   "metadata": {},
   "source": [
    "## Q . 7  Compare `vstack()` and `hstack()` functions in NumPy. Provide examples demonstrating their usage and output."
   ]
  },
  {
   "cell_type": "markdown",
   "metadata": {},
   "source": [
    "**Comparison of `vstack()` and `hstack()` in Numpy :**\n",
    "\n",
    "In NumPy, `vstack()` and `hstack()` are functions used to combine arrays along different axes:\n",
    "\n",
    "* `vstack()`: Vertically stacks arrays (along the row axis). It stacks arrays one on top of the other.\n",
    "* `hstack()`: Horizontally stacks arrays (along the column axis). It stacks arrays side-by-side.\n",
    "\n",
    "**Usage :**\n",
    "* `vstack()`: Stacks the arrays vertically, turning the 1D arrays into a 2D array where each input array becomes a row.\n",
    "* `hstack()`: Stacks the arrays horizontally, combining them into a single 1D array where elements from each input array are concatenated side by side."
   ]
  },
  {
   "cell_type": "code",
   "execution_count": 8,
   "metadata": {},
   "outputs": [
    {
     "name": "stdout",
     "output_type": "stream",
     "text": [
      "VERTICAL STCK OF 2D ARRAYS :\n",
      " [[ 1  2  3]\n",
      " [ 4  5  6]\n",
      " [ 7  8  9]\n",
      " [10 11 12]]\n",
      "\n",
      " Horizontal stack of :\n",
      " [[ 1  2  3  7  8  9]\n",
      " [ 4  5  6 10 11 12]]\n"
     ]
    }
   ],
   "source": [
    "# example of both hstack() and vstack()\n",
    "\n",
    "# Creating two 2D array\n",
    "arr1 = np.array([[1, 2, 3], [4, 5, 6]])\n",
    "arr2 = np.array([[7, 8, 9], [10, 11, 12]])\n",
    "\n",
    "# Example of vsatck()\n",
    "result_vstack = np.vstack((arr1, arr2))\n",
    "print(\"VERTICAL STCK OF 2D ARRAYS :\\n\",result_vstack)\n",
    "\n",
    "\n",
    "result_hstack =np.hstack((arr1,arr2))\n",
    "print(\"\\n Horizontal stack of :\\n\",result_hstack)"
   ]
  },
  {
   "cell_type": "markdown",
   "metadata": {},
   "source": [
    "## Q. 8 Explain the differences between `fliplr()` and `flipud()` methods in NumPy, including their effects on various array dimensions."
   ]
  },
  {
   "cell_type": "markdown",
   "metadata": {
    "vscode": {
     "languageId": "javascript"
    }
   },
   "source": [
    "In NumPy, the methods fliplr() and flipud() are used to reverse the elements of an array along specific axes.\n",
    "\n",
    "1. **`fliplr()` (Flip Left-Right) :**\n",
    "\n",
    "* Purpose: This method flips an array horizontally, meaning it reverses the elements from left to right along axis 1 (the second axis, i.e., columns).\n",
    "\n",
    "\n",
    "* Effect:\n",
    "\n",
    "    * For a 2D array, fliplr() reverses the order of the columns, keeping the rows intact.\n",
    "\n",
    "    * For higher-dimensional arrays (like 3D), it still operates along axis 1, so it flips the elements along the second axis (the columns in 2D planes).\n",
    "\n",
    "2. **`flipud()` (Flip Up-Down) :**\n",
    "\n",
    "* Purpose: This method flips an array vertically, meaning it reverses the elements from top to bottom along axis 0 (the first axis, i.e., rows).\n",
    "\n",
    "* Effect:\n",
    "    * For a 2D array, flipud() reverses the order of the rows, keeping the columns intact.\n",
    "    * For higher-dimensional arrays, it still operates along axis 0, flipping the elements along the first axis (the rows in 2D planes).\n"
   ]
  },
  {
   "cell_type": "code",
   "execution_count": 9,
   "metadata": {},
   "outputs": [
    {
     "name": "stdout",
     "output_type": "stream",
     "text": [
      "Original array:\n",
      "[[1 2 3 4]\n",
      " [5 6 7 8]]\n",
      "\n",
      "Array after fliplr:\n",
      "[[4 3 2 1]\n",
      " [8 7 6 5]]\n",
      "\n",
      "Array after flipud:\n",
      "[[5 6 7 8]\n",
      " [1 2 3 4]]\n"
     ]
    }
   ],
   "source": [
    "# Example of fliplr() and flipud()\n",
    "\n",
    "import numpy as np\n",
    "\n",
    "# Creating a 2D array\n",
    "arr = np.array([[1, 2, 3, 4],\n",
    "                [5, 6, 7, 8]])\n",
    "\n",
    "# Using fliplr() - Flip array \n",
    "arr_fliplr = np.fliplr(arr)\n",
    "\n",
    "# Using flipud() - Flip array\n",
    "arr_flipud = np.flipud(arr)\n",
    "\n",
    "# Printing the results\n",
    "print(\"Original array:\")\n",
    "print(arr)\n",
    "#  Output:\n",
    "# Original array:\n",
    "# [[1 2 3 4]\n",
    "#  [5 6 7 8]]\n",
    "\n",
    "print(\"\\nArray after fliplr:\")\n",
    "print(arr_fliplr)\n",
    "# output :\n",
    "# Array after fliplr:\n",
    "# [[4 3 2 1]\n",
    "#  [8 7 6 5]]\n",
    "\n",
    "print(\"\\nArray after flipud:\")\n",
    "print(arr_flipud)\n",
    "#output :\n",
    "# Array after flipud:\n",
    "# [[5 6 7 8]\n",
    "#  [1 2 3 4]]\n"
   ]
  },
  {
   "cell_type": "markdown",
   "metadata": {},
   "source": [
    "## Q.9 Discuss the functionality of the array_split() method in NumPy. How does it handle uneven splits?"
   ]
  },
  {
   "cell_type": "markdown",
   "metadata": {},
   "source": [
    "The `array_split()` method in NumPy is a powerful tool for dividing an array into multiple sub-arrays. It takes an array as input and returns a list of sub-arrays. The number of sub-arrays is determined by the `indices_or_sections `argument, which can be either an integer or a sequence of integers.\n",
    "\n",
    "**Functionality:**\n",
    "\n",
    "* Input: An array to be split.\n",
    "\n",
    "* Output: A list of sub-arrays.\n",
    "\n",
    "* `indices_or_sections` argument:\n",
    "    * If it's an integer, the array is split into that number of sub-arrays of approximately equal size.\n",
    "\n",
    "    * If it's a sequence of integers, the sequence specifies the indices where the array should be split.\n",
    "\n",
    "\n",
    "**Handling Uneven Splits:**\n",
    "\n",
    "* When the array cannot be evenly divided into the specified number of sub-arrays, `the array_split()` method handles it intelligently.\n",
    "\n",
    "* The extra elements are distributed among the sub-arrays in a way that ensures the sub-arrays are as close to equal size as possible.\n",
    "\n",
    "* The first sub-array will be larger than the others if the remainder is not evenly divisible by the number of sub-arrays."
   ]
  },
  {
   "cell_type": "code",
   "execution_count": 10,
   "metadata": {},
   "outputs": [
    {
     "name": "stdout",
     "output_type": "stream",
     "text": [
      "[array([1, 2, 3]), array([4, 5, 6]), array([7, 8])]\n",
      "[array([1, 2]), array([3, 4, 5]), array([6, 7, 8])]\n"
     ]
    }
   ],
   "source": [
    "import numpy as np\n",
    "\n",
    "arr = np.array([1, 2, 3, 4, 5, 6, 7, 8])\n",
    "\n",
    "# Split into 3 sub-arrays\n",
    "result1 = np.array_split(arr, 3)\n",
    "print(result1) \n",
    "# output : [array([1, 2, 3]), array([4, 5, 6]), array([7, 8])]\n",
    "\n",
    "\n",
    "# Split at indices 2 and 5\n",
    "result2 = np.array_split(arr, [2, 5])\n",
    "print(result2)\n",
    "# output : [array([1, 2]), array([3, 4, 5]), array([6, 7, 8])]"
   ]
  },
  {
   "cell_type": "markdown",
   "metadata": {},
   "source": [
    "## Q.10  Explain the concepts of vectorization and broadcasting in NumPy. How do they contribute to efficient array operations?\n"
   ]
  },
  {
   "cell_type": "markdown",
   "metadata": {},
   "source": [
    "Vectorization and Broadcasting in NumPy are key concepts that contribute to efficient array operations, making computations faster and more concise. Here's an explanation of both:\n",
    "\n",
    "**1. Vectorization:**\n",
    "\n",
    "* Definition: Vectorization refers to performing operations on entire arrays (or large chunks of them) without explicit loops. Instead of processing elements one by one, operations are applied to entire arrays at once.\n",
    "\n",
    "* Efficiency: It leverages low-level optimizations and compiled code  to perform these operations quickly, making them much faster than traditional Python loops.\n"
   ]
  },
  {
   "cell_type": "code",
   "execution_count": 11,
   "metadata": {},
   "outputs": [
    {
     "data": {
      "text/plain": [
       "array([5, 7, 9])"
      ]
     },
     "execution_count": 11,
     "metadata": {},
     "output_type": "execute_result"
    }
   ],
   "source": [
    "# Example : elements wise addition\n",
    "\n",
    "import numpy as np\n",
    "a = np.array([1, 2, 3])\n",
    "b = np.array([4, 5, 6])\n",
    "\n",
    "# Element-wise addition (vectorized)\n",
    "c = a + b\n",
    "# printing the value of \"c\"\n",
    "c  # Output: [5, 7, 9]"
   ]
  },
  {
   "cell_type": "markdown",
   "metadata": {},
   "source": [
    "**2. Broadcasting :**\n",
    "\n",
    "* Definition: Broadcasting refers to how NumPy handles arrays with different shapes during arithmetic operations. It \"stretches\" the smaller array along one or more axes to match the shape of the larger array, without actually copying data.\n",
    "\n",
    "* Efficiency: Broadcasting allows you to perform operations between arrays of different shapes without needing to manually replicate or resize them, reducing memory usage and improving performance.\n",
    "\n",
    "* Rules: Broadcasting works when dimensions of arrays are compatible, either:\n",
    "\n",
    "    * The dimensions are equal.\n",
    "    * One of the dimensions is 1 (allowing expansion)."
   ]
  },
  {
   "cell_type": "code",
   "execution_count": 12,
   "metadata": {},
   "outputs": [
    {
     "name": "stdout",
     "output_type": "stream",
     "text": [
      "The result is :  [6 7 8]\n",
      "\n",
      "The result is : \n",
      " [[11 22 33]\n",
      " [14 25 36]]\n"
     ]
    }
   ],
   "source": [
    "# Example: Adding a scalar to a 1D array:\n",
    "\n",
    "a = np.array([1, 2, 3])\n",
    "\n",
    "# Broadcasting the scalar 5 to each element in array 'a'\n",
    "b = a + 5\n",
    "print(\"The result is : \", b)  # Output: [6, 7, 8]\n",
    "\n",
    "\n",
    "# Adding a 1D array to a 2D array: \n",
    "\n",
    "x = np.array([[1, 2, 3],[4, 5, 6]])\n",
    "\n",
    "y = np.array([10, 20, 30])\n",
    "\n",
    "# Broadcasting y across each row of x\n",
    "z = x + y\n",
    "print(\"\\nThe result is : \\n\",z)\n",
    "# Output:\n",
    "# [[11 22 33]\n",
    "#  [14 25 36]]\n"
   ]
  },
  {
   "cell_type": "markdown",
   "metadata": {},
   "source": [
    "**Contributions to Efficient Array Operations:**\n",
    "\n",
    "* No explicit loops: Both vectorization and broadcasting eliminate the need for writing loops, which in Python can be slow. This results in more concise and readable code.\n",
    "* Memory efficiency: Broadcasting performs operations without creating unnecessary copies of arrays, leading to lower memory consumption.\n",
    "* Speed: Vectorized operations are optimized to use underlying C or Fortran libraries, making them significantly faster than element-wise Python loops."
   ]
  }
 ],
 "metadata": {
  "kernelspec": {
   "display_name": "Python 3",
   "language": "python",
   "name": "python3"
  },
  "language_info": {
   "codemirror_mode": {
    "name": "ipython",
    "version": 3
   },
   "file_extension": ".py",
   "mimetype": "text/x-python",
   "name": "python",
   "nbconvert_exporter": "python",
   "pygments_lexer": "ipython3",
   "version": "3.12.4"
  }
 },
 "nbformat": 4,
 "nbformat_minor": 2
}
